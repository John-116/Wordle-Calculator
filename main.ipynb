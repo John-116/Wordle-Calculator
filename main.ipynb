{
 "cells": [
  {
   "cell_type": "markdown",
   "metadata": {},
   "source": [
    "# Determining the Best Possible Wordle Guesses"
   ]
  },
  {
   "cell_type": "code",
   "execution_count": 26,
   "metadata": {},
   "outputs": [],
   "source": [
    "# Load in File\n",
    "with open(\"wordle.txt\", \"r\", encoding=\"utf-8\") as file:\n",
    "    lines = file.read().split(\"\\n\")"
   ]
  },
  {
   "cell_type": "code",
   "execution_count": 27,
   "metadata": {},
   "outputs": [],
   "source": [
    "# Calculate each letter's value by viewing how many times they occur in the wordlist\n",
    "counterList = [0] * 26\n",
    "\n",
    "for i in range(len(lines)):\n",
    "    \n",
    "    for x in range(len(lines[i])):\n",
    "        letterVal = (ord(lines[i][x]) & 31) - 1\n",
    "        counterList[letterVal] += 1"
   ]
  },
  {
   "cell_type": "code",
   "execution_count": 28,
   "metadata": {},
   "outputs": [],
   "source": [
    "# Remove duplicate letters from words in the wordlist to ensure optimal word selection\n",
    "for i in range(len(lines)):\n",
    "    lines[i] = ''.join(sorted(set(lines[i]), key=lines[i].index))"
   ]
  },
  {
   "cell_type": "code",
   "execution_count": 29,
   "metadata": {},
   "outputs": [],
   "source": [
    "# Score each word\n",
    "# Create an empty list the length of lines\n",
    "ScoreList = [0] * len(lines)\n",
    "\n",
    "# Calculate score\n",
    "for i in range(len(lines)):\n",
    "    \n",
    "    for x in range(len(lines[i])):\n",
    "        LetterPos = (ord(lines[i][x]) & 31) - 1\n",
    "        ScoreList[i] += counterList[LetterPos]\n"
   ]
  },
  {
   "cell_type": "code",
   "execution_count": 30,
   "metadata": {},
   "outputs": [
    {
     "name": "stdout",
     "output_type": "stream",
     "text": [
      "arose\n",
      "aeros\n",
      "soare\n"
     ]
    }
   ],
   "source": [
    "# Get all words that's score is the highscore\n",
    "HighScore = max(ScoreList)\n",
    "\n",
    "for i in range(len(lines)):\n",
    "    if ScoreList[i] == HighScore:\n",
    "        print(lines[i])"
   ]
  },
  {
   "cell_type": "markdown",
   "metadata": {},
   "source": [
    "### Conclusion\n",
    "The best word is...\n",
    "```\n",
    "    Soare - a young hawk\n",
    "```"
   ]
  }
 ],
 "metadata": {
  "interpreter": {
   "hash": "916dbcbb3f70747c44a77c7bcd40155683ae19c65e1c03b4aa3499c5328201f1"
  },
  "kernelspec": {
   "display_name": "Python 3.9.7 64-bit",
   "language": "python",
   "name": "python3"
  },
  "language_info": {
   "codemirror_mode": {
    "name": "ipython",
    "version": 3
   },
   "file_extension": ".py",
   "mimetype": "text/x-python",
   "name": "python",
   "nbconvert_exporter": "python",
   "pygments_lexer": "ipython3",
   "version": "3.9.7"
  },
  "orig_nbformat": 4
 },
 "nbformat": 4,
 "nbformat_minor": 2
}
